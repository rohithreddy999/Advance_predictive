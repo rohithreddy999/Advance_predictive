{
  "cells": [
    {
      "cell_type": "markdown",
      "metadata": {
        "id": "view-in-github",
        "colab_type": "text"
      },
      "source": [
        "<a href=\"https://colab.research.google.com/github/rohithreddy999/Advance_predictive/blob/main/CNN_updated.ipynb\" target=\"_parent\"><img src=\"https://colab.research.google.com/assets/colab-badge.svg\" alt=\"Open In Colab\"/></a>"
      ]
    },
    {
      "cell_type": "markdown",
      "metadata": {
        "id": "90QrPUUIAL_j"
      },
      "source": [
        "# Convolutional Neural Networks in Python with Keras\n",
        "\n",
        "- Introduction to Convolutional Neural Network (CNN)\n",
        "- Layers in CNN\n",
        "- Understanding the data\n",
        "- Preprocessing the data\n",
        "- Constructing the CNN\n",
        "- Overfitting and how to overcome it through dropout layers\n",
        "- Predictions on data\n",
        "- Visualizing the classification report"
      ]
    },
    {
      "cell_type": "markdown",
      "metadata": {
        "id": "E3GtBfrmAL_l"
      },
      "source": [
        "## Introduction: Convolutional Neural Network (CNN)\n",
        "\n",
        "CNNs specifically are inspired by the biological visual cortex. The cortex has small regions of cells that are sensitive to the specific areas of the visual field. This idea was expanded by a captivating experiment done by Hubel and Wiesel in 1962 (if you want to know more, here's a video). In this experiment, the researchers showed that some individual neurons in the brain activated or fired only in the presence of edges of a particular orientation like vertical or horizontal edges. For example, some neurons fired when exposed to vertical sides and some when shown a horizontal edge. Hubel and Wiesel found that all of these neurons were well ordered in a columnar fashion and that together they were able to produce visual perception. This idea of specialized components inside of a system having specific tasks is one that machines use as well and one that you can also find back in CNNs.\n",
        "\n",
        "CNNs are very similar to regular Neural Networks (NN): they are made up of neurons that have learnable weights and biases. Each neuron receives some inputs, performs a dot product and optionally follows it with a non-linearity. The whole network still expresses a single differentiable score function: from the raw image pixels on one end to class scores at the other. And they still have a loss function (e.g. SVM/Softmax) on the last (fully-connected) layer and all the tips/tricks we developed for learning regular Neural Networks still apply.\n",
        "\n",
        "So what changes?\n",
        "\n",
        "Revisting NN: Neural Networks receive an input as a single vector, and transform it through a series of hidden layers. Each hidden layer is made up of a set of neurons, where each neuron is fully connected to all neurons in the previous layer, and where neurons in a single layer function completely independently and do not share any connections. The last fully-connected layer is called the “output layer” and in classification settings it represents the class scores.\n",
        "\n",
        "Regular NNs don’t scale well to full images. If a colored image of size 32x32x3 (32 wide, 32 high, 3 color channels) is fed to NN, then a single fully-connected neuron in a first hidden layer of a regular NN would have 32*32*3 = 3072 weights. This amount still seems manageable, but clearly this fully-connected structure does not scale to larger images. For example, an image of more respectable size, e.g. 200x200x3, would lead to neurons that have 200*200*3 = 120,000 weights. Moreover, we would almost certainly want to have several such neurons, so the parameters would add up quickly! Clearly, this full connectivity is wasteful and the huge number of parameters would quickly lead to overfitting.\n",
        "\n",
        "Again, if we don't want to feed the whole image to NN, then we have to manually extract the features of the image and then feed the feature vector to NN.\n",
        "\n",
        "![nn.jpeg](attachment:nn.jpeg)\n",
        "\n",
        "CNN deals with these drawbacks of regular NN. It removes the human dependency for feature extraction. CNNs make the explicit assumption that the inputs are images, which allows us to encode certain properties into the architecture. These then make the forward function more efficient to implement and vastly reduce the amount of parameters in the network. CNNs take advantage of the fact that the input consists of images and they constrain the architecture in a more sensible way. In particular, unlike a regular NN, the layers of a CNN have neurons arranged in 3 dimensions: width, height, depth. In CNN, the neurons in a layer will only be connected to a small region of the layer before it, instead of all of the neurons in a fully-connected manner. Here is a visualization:\n",
        "\n",
        "![cnn1.jpeg](attachment:cnn1.jpeg)"
      ]
    },
    {
      "cell_type": "markdown",
      "metadata": {
        "id": "1GtoOyDMAL_m"
      },
      "source": [
        "## Layers in CNN\n",
        "\n",
        "So, you know that you'll be working with feed-forward networks that are inspired by the biological visual cortex, but what does that actually mean?\n",
        "\n",
        "Take a look at the picture below:\n",
        "![cnn2.png](attachment:cnn2.png)\n",
        "\n",
        "The image shows you that you feed an image as an input to the network, which goes through multiple convolutions, subsampling, a fully connected layer and finally outputs something.\n",
        "\n",
        "But what are all these layers and what are the concepts behind them?\n",
        "\n",
        "### Convolution Layer\n",
        "\n",
        "The Convolution layer or the Conv layer is the core building block of a CNN that does most of the computational heavy lifting. The convolution layer computes the output of neurons that are connected to local regions or receptive fields in the input, each computing a dot product between their weights and a small receptive field to which they are connected to in the input volume. Each computation leads to extraction of a feature map from the input image. In other words, imagine you have an image represented as a 5x5 matrix of values, and you take a 3x3 matrix and slide that 3x3 window or kernel around the image. At each position of that matrix, you multiply the values of your 3x3 window by the values in the image that are currently being covered by the window. As a result, you'll get a single number that represents all the values in that window of the images. You use this layer to filtering: as the window moves over the image, you check for patterns in that section of the image. This works because of filters, which are multiplied by the values outputted by the convolution.\n",
        "\n",
        "Conv layer is made up of various kernels or filters. Each filter is dedicated to identifying some aspect of the image, say a filter detects vertical edges in the image while another filter detects diagonal edges and so on. A kernel or filter is a small grid of numbers and you pass it over your whole image i.e. all the pixels in your input image, and transforming it based on what those numbers are. By using different numbers in the kernels, you can perform different types of image preprocessing (during image recognition) such as contrast, blur, sharpen, or edge detection. Generally speaking, the kernel is smaller than the image, and 3x3 is a pretty common choice!\n",
        "\n",
        "![kernel.gif](attachment:kernel.gif)\n",
        "\n",
        "**Hyperparameters of Convolution Layer**\n",
        "\n",
        "*Padding*: When a kernel reaches the edge of the image, it has to make some decision about what to do where there are no pixels present in the input image. For now, we are going forward with zero-padding the edges, achieved using padding = 'same'. Zero padding means providing a cushion of zeroes outside of the image (as seen in the image above). This helps to ensure the dimensionality of the input image isn’t reduced after the convolution operation.\n",
        "\n",
        "*Stride*: It indicates how many pixels the kernel should be shifted over at a time. As stride is decreased, more features are learned because more data is extracted, which also leads to larger output layers. On the contrary, as stride is increased, this leads to more limited feature extraction and smaller output layer dimensions. Here, we are using the default stride of (1,1) i.e. the kernel slides over the image in raster scan manner 1 pixel horizontally as well as 1 pixel vertically.\n",
        "\n",
        "### Pooling Layer (Subsampling)\n",
        "\n",
        "The objective of subsampling is to get an input representation by reducing its dimensions, which helps in reducing overfitting. One of the techniques of subsampling is max pooling. With this technique, you select the highest pixel value from a region depending on its size. In other words, max pooling takes the largest value from the window of the image currently covered by the kernel. For example, you can have a max-pooling layer of size 2 x 2 will select the maximum pixel intensity value from 2 x 2 region.\n",
        "\n",
        "![maxpool.png](attachment:maxpool.png)"
      ]
    },
    {
      "cell_type": "markdown",
      "metadata": {
        "id": "lWU3mbxJAL_n"
      },
      "source": [
        "## The Fashion-MNIST Data Set\n",
        "\n",
        "[Fashion-MNIST](https://arxiv.org/abs/1708.07747) is a Novel Image Dataset for Benchmarking Machine Learning Algorithms. It consists of 28x28 grayscale images of 70,000 fashion products from 10 categories, and 7,000 images per category. The training set has 60,000 images, and the test set has 10,000 images.\n",
        "\n",
        "There are 10 classes in this dataset:\n",
        "- 0 T-shirt/top\n",
        "- 1 Trouser\n",
        "- 2 Pullover\n",
        "3 Dress\n",
        "4 Coat\n",
        "5 Sandal\n",
        "6 Shirt\n",
        "7 Sneaker\n",
        "8 Bag\n",
        "9 Ankle boot\n",
        "\n",
        "You can find the Fashion-MNIST dataset [here](https://github.com/zalandoresearch/fashion-mnist), but you can also load it with the help of specific TensorFlow and Keras modules.\n",
        "\n",
        "### Loading the data\n",
        "\n",
        "Keras comes with a library called datasets, which you can use to load datasets. You download the data from the server and speeds up the process since you no longer have to download the data to your computer. The train and test images along with the labels are loaded and stored in variables train_X, train_Y, test_X, test_Y, respectively."
      ]
    },
    {
      "cell_type": "code",
      "execution_count": null,
      "metadata": {
        "id": "vj1YvxMrAL_o",
        "outputId": "3c517923-0c74-410f-d713-480b69c87dbd"
      },
      "outputs": [
        {
          "name": "stderr",
          "output_type": "stream",
          "text": [
            "Using TensorFlow backend.\n"
          ]
        },
        {
          "name": "stdout",
          "output_type": "stream",
          "text": [
            "Downloading data from http://fashion-mnist.s3-website.eu-central-1.amazonaws.com/train-labels-idx1-ubyte.gz\n",
            "32768/29515 [=================================] - 0s 7us/step\n",
            "Downloading data from http://fashion-mnist.s3-website.eu-central-1.amazonaws.com/train-images-idx3-ubyte.gz\n",
            "26427392/26421880 [==============================] - 8s 0us/step\n",
            "Downloading data from http://fashion-mnist.s3-website.eu-central-1.amazonaws.com/t10k-labels-idx1-ubyte.gz\n",
            "8192/5148 [===============================================] - 0s 0us/step\n",
            "Downloading data from http://fashion-mnist.s3-website.eu-central-1.amazonaws.com/t10k-images-idx3-ubyte.gz\n",
            "4423680/4422102 [==============================] - 3s 1us/step\n"
          ]
        }
      ],
      "source": [
        "from tensorflow.keras.datasets import fashion_mnist\n",
        "(train_X,train_Y), (test_X,test_Y) = fashion_mnist.load_data()"
      ]
    },
    {
      "cell_type": "markdown",
      "metadata": {
        "id": "cjErp3fZAL_p"
      },
      "source": [
        "Now you're completely set to start analyzing, processing and modeling your data!\n",
        "\n",
        "### Analyzing the data\n",
        "\n",
        "Let's now analyze how images in the dataset look like. Even though you know the dimension of the images by now, it's still worth the effort to analyze it programmatically: you might have to rescale the image pixels and resize the images."
      ]
    },
    {
      "cell_type": "code",
      "execution_count": null,
      "metadata": {
        "id": "R0dxf03yAL_q",
        "outputId": "6a099406-bf2c-4da4-fee5-f9ca1a80ac28"
      },
      "outputs": [
        {
          "name": "stdout",
          "output_type": "stream",
          "text": [
            "Training data shape :  (60000, 28, 28) (60000,)\n",
            "Testing data shape :  (10000, 28, 28) (10000,)\n"
          ]
        }
      ],
      "source": [
        "import numpy as np\n",
        "\n",
        "print('Training data shape : ', train_X.shape, train_Y.shape)\n",
        "\n",
        "print('Testing data shape : ', test_X.shape, test_Y.shape)"
      ]
    },
    {
      "cell_type": "markdown",
      "metadata": {
        "id": "iZoU6PeDAL_q"
      },
      "source": [
        "From the above output, you can see that the training data has a shape of 60000 x 28 x 28 since there are 60,000 training samples each of 28 x 28 dimension. Similarly, the test data has a shape of 10000 x 28 x 28 since there are 10,000 testing samples.\n",
        "\n",
        "Now, let's find the number of classes in the dataset."
      ]
    },
    {
      "cell_type": "code",
      "execution_count": null,
      "metadata": {
        "id": "_tpftdl4AL_q",
        "outputId": "8fff2f3d-5817-46b7-cdf1-83604bc82a29"
      },
      "outputs": [
        {
          "name": "stdout",
          "output_type": "stream",
          "text": [
            "Total number of outputs :  10\n",
            "Output classes :  [0 1 2 3 4 5 6 7 8 9]\n"
          ]
        }
      ],
      "source": [
        "# Find the unique numbers from the train labels\n",
        "classes = np.unique(train_Y)\n",
        "nClasses = len(classes)\n",
        "print('Total number of outputs : ', nClasses)\n",
        "print('Output classes : ', classes)"
      ]
    },
    {
      "cell_type": "markdown",
      "metadata": {
        "id": "MgkLtYKWAL_q"
      },
      "source": [
        "So, there are a total of ten output classes that range from 0 to 9.\n",
        "\n",
        "Now, take a look at the images in the dataset:"
      ]
    },
    {
      "cell_type": "code",
      "execution_count": null,
      "metadata": {
        "id": "k9idwfL4AL_q",
        "outputId": "dafd1cc4-becc-4765-8999-6f9a4376b950"
      },
      "outputs": [
        {
          "data": {
            "image/png": "[encoded data removed]",
            "text/plain": [
              "<Figure size 360x360 with 2 Axes>"
            ]
          },
          "metadata": {
            "needs_background": "light"
          },
          "output_type": "display_data"
        }
      ],
      "source": [
        "import matplotlib.pyplot as plt\n",
        "%matplotlib inline\n",
        "\n",
        "plt.figure(figsize=[5,5])\n",
        "\n",
        "# Display the first image in training data\n",
        "plt.subplot(121)\n",
        "plt.imshow(train_X[0,:,:], cmap='gray');\n",
        "plt.title(\"Ground Truth : {}\".format(train_Y[0]));\n",
        "\n",
        "# Display the first image in testing data\n",
        "plt.subplot(122)\n",
        "plt.imshow(test_X[0,:,:], cmap='gray');\n",
        "plt.title(\"Ground Truth : {}\".format(test_Y[0]));"
      ]
    },
    {
      "cell_type": "markdown",
      "metadata": {
        "id": "LTR2l_KvAL_r"
      },
      "source": [
        "The output of above two plots looks like a boot, and this class is assigned a class label of 9. Similarly, other fashion products will have different labels, but similar products will have same labels. This means that all the 7,000 boot images will have a class label of 9.\n",
        "\n",
        "### Data Preprocessing\n",
        "\n",
        "As you could see in the above plot, the images are grayscale images have pixel values that range from 0 to 255. Also, these images have a dimension of 28 x 28 (2D image). But the layers in CNN accepts the image as 3D. As a result, you'll need to preprocess the data before you feed it into the model.\n",
        "\n",
        "- As a first step, convert each 28 x 28 2D image of the train and test set into a 3D matrix of size 28 x 28 x 1 which is fed into the network i.e. we are converting the 2D images into 3D images."
      ]
    },
    {
      "cell_type": "code",
      "execution_count": null,
      "metadata": {
        "id": "d_FqmxY5AL_r",
        "outputId": "50d85206-8571-4e91-d143-3d44f62dc307"
      },
      "outputs": [
        {
          "data": {
            "text/plain": [
              "((60000, 28, 28, 1), (10000, 28, 28, 1))"
            ]
          },
          "execution_count": 7,
          "metadata": {},
          "output_type": "execute_result"
        }
      ],
      "source": [
        "train_X = np.expand_dims(train_X, axis=3)\n",
        "test_X = np.expand_dims(test_X, axis=3)\n",
        "train_X.shape, test_X.shape"
      ]
    },
    {
      "cell_type": "markdown",
      "metadata": {
        "id": "ybu3Gu4FAL_r"
      },
      "source": [
        "- The data right now is in an int8 format, so before you feed it into the network you need to convert its type to float32, and you also have to rescale the pixel values in range 0 - 1 inclusive."
      ]
    },
    {
      "cell_type": "code",
      "execution_count": null,
      "metadata": {
        "id": "n-MJJDgEAL_r"
      },
      "outputs": [],
      "source": [
        "train_X = train_X.astype('float32')\n",
        "test_X = test_X.astype('float32')\n",
        "train_X = train_X / 255.\n",
        "test_X = test_X / 255."
      ]
    },
    {
      "cell_type": "markdown",
      "metadata": {
        "id": "mw39UupaAL_r"
      },
      "source": [
        "- Now you need to convert the class labels into a one-hot encoding vector.\n",
        "\n",
        "In one-hot encoding, you convert the categorical data into a vector of numbers. The reason why you convert the categorical data in one hot encoding is that machine learning algorithms cannot work with categorical data directly. You generate one boolean column for each category or class. Only one of these columns could take on the value 1 for each sample. Hence, the term one-hot encoding.\n",
        "\n",
        "For this problem, the one hot encoding will be a row vector, and for each image, it will have a dimension of 1 x 10. The important thing to note here is that the vector consists of all zeros except for the class that it represents, and for that, it is 1. For example, the ankle boot image that you plotted above has a label of 9, so for all the boot images, the one hot encoding vector would be [0 0 0 0 0 0 0 0 0 1].\n",
        "\n",
        "So let's convert the training and testing labels into one-hot encoding vectors:"
      ]
    },
    {
      "cell_type": "code",
      "execution_count": null,
      "metadata": {
        "id": "nsN6GXeZAL_r",
        "outputId": "5df4e43a-69f4-4384-8d84-65af7f7980a5"
      },
      "outputs": [
        {
          "name": "stdout",
          "output_type": "stream",
          "text": [
            "Original label: 9\n",
            "After conversion to one-hot: [0. 0. 0. 0. 0. 0. 0. 0. 0. 1.]\n"
          ]
        }
      ],
      "source": [
        "from tensorflow.keras.utils import to_categorical\n",
        "\n",
        "# Change the labels from categorical to one-hot encoding\n",
        "train_Y_one_hot = to_categorical(train_Y)\n",
        "test_Y_one_hot = to_categorical(test_Y)\n",
        "\n",
        "# Display the change for category label using one-hot encoding\n",
        "print('Original label:', train_Y[0])\n",
        "print('After conversion to one-hot:', train_Y_one_hot[0])"
      ]
    },
    {
      "cell_type": "markdown",
      "metadata": {
        "id": "_BWvgGdLAL_s"
      },
      "source": [
        "- This last step is a crucial one. In machine learning or any data specific task, you should partition the data correctly. For the model to generalize well, you split the training data into two parts, one designed for training and another one for validation. In this case, you will train the model on 80% of the training data and validate it on 20% of the remaining training data. This will also help to reduce overfitting since you will be validating the model on the data it would not have seen in training phase, which will help in boosting the test performance."
      ]
    },
    {
      "cell_type": "code",
      "execution_count": null,
      "metadata": {
        "id": "DZgn1jZRAL_s",
        "outputId": "b00c9e69-4ecb-4f70-a6cd-74d8b255d615"
      },
      "outputs": [
        {
          "data": {
            "text/plain": [
              "((48000, 28, 28, 1), (12000, 28, 28, 1), (48000, 10), (12000, 10))"
            ]
          },
          "execution_count": 10,
          "metadata": {},
          "output_type": "execute_result"
        }
      ],
      "source": [
        "from sklearn.model_selection import train_test_split\n",
        "train_X,valid_X,train_label,valid_label = train_test_split(train_X, train_Y_one_hot, test_size=0.2, random_state=13)\n",
        "\n",
        "train_X.shape,valid_X.shape,train_label.shape,valid_label.shape"
      ]
    },
    {
      "cell_type": "markdown",
      "metadata": {
        "id": "dI8Dun2OAL_s"
      },
      "source": [
        "## Constructing the CNN\n",
        "\n",
        "We will use 3 convolution layers:\n",
        "\n",
        "- The first layer will have 32-3 x 3 filters\n",
        "- The second layer will have 64-3 x 3 filters\n",
        "- The third layer will have 128-3 x 3 filters\n",
        "\n",
        "In addition, there are three max-pooling layers each of size 2 x 2.\n",
        "![cnn3.png](attachment:cnn3.png)\n",
        "\n",
        "Now, let's import all the necessary modules to construct the network."
      ]
    },
    {
      "cell_type": "code",
      "execution_count": null,
      "metadata": {
        "id": "DsbnCgoxAL_s"
      },
      "outputs": [],
      "source": [
        "import tensorflow\n",
        "from tensorflow.keras.models import Sequential, Model\n",
        "from tensorflow.keras.layers import Dense, Dropout, Flatten\n",
        "from tensorflow.keras.layers import Conv2D, MaxPooling2D\n",
        "from tensorflow.keras.layers import BatchNormalization\n",
        "from tensorflow.keras.layers import LeakyReLU"
      ]
    },
    {
      "cell_type": "markdown",
      "metadata": {
        "id": "H0o-tDlFAL_s"
      },
      "source": [
        "We will use a batch size of 64 and we will train the network for 20 epochs."
      ]
    },
    {
      "cell_type": "code",
      "execution_count": null,
      "metadata": {
        "id": "bB0yt7TXAL_s"
      },
      "outputs": [],
      "source": [
        "batch_size = 64\n",
        "epochs = 20\n",
        "num_classes = 10"
      ]
    },
    {
      "cell_type": "markdown",
      "metadata": {
        "id": "Xqp7Zsk7AL_s"
      },
      "source": [
        "In Keras, you can just stack up layers by adding the desired layer one by one. That's exactly what you'll do here: you'll first add a first convolutional layer with Conv2D(). When using this layer as the first layer in a model, provide the keyword argument **input_shape** (3D matrix). Note that you use this function because you're working with images! Next, you add the Leaky ReLU activation function which helps the network learn non-linear decision boundaries. Since you have ten different classes, you'll need a non-linear decision boundary that could separate these ten classes which are not linearly separable.\n",
        "\n",
        "Next, you'll add the max-pooling layer with MaxPooling2D() and so on. The last layer is a Dense layer that has a softmax activation function with 10 units, which is needed for this multi-class classification problem.\n",
        "\n",
        "Here, we have not specified **Stride** while adding Convolution layer and MaxPooling layer.\n",
        "For Convolution layer, the default stride is **(1,1)**.\n",
        "For MaxPooling layer, the default stride is equal to **pool_size** i.e. **(2,2)** in this case."
      ]
    },
    {
      "cell_type": "code",
      "execution_count": null,
      "metadata": {
        "id": "X5GsJjvcAL_s"
      },
      "outputs": [],
      "source": [
        "fashion_model = Sequential()\n",
        "fashion_model.add(Conv2D(32, kernel_size=(3, 3),activation='linear',input_shape=(28,28,1),padding='same'))\n",
        "fashion_model.add(LeakyReLU(alpha=0.1))\n",
        "fashion_model.add(MaxPooling2D((2, 2),padding='valid'))\n",
        "fashion_model.add(Conv2D(64, (3, 3), activation='linear',padding='same'))\n",
        "fashion_model.add(LeakyReLU(alpha=0.1))\n",
        "fashion_model.add(MaxPooling2D(pool_size=(2, 2),padding='valid'))\n",
        "fashion_model.add(Conv2D(128, (3, 3), activation='linear',padding='same'))\n",
        "fashion_model.add(LeakyReLU(alpha=0.1))\n",
        "fashion_model.add(MaxPooling2D(pool_size=(2, 2),padding='same'))\n",
        "fashion_model.add(Flatten())\n",
        "fashion_model.add(Dense(128, activation='linear'))\n",
        "fashion_model.add(LeakyReLU(alpha=0.1))\n",
        "fashion_model.add(Dense(num_classes, activation='softmax'))"
      ]
    },
    {
      "cell_type": "markdown",
      "metadata": {
        "id": "fKuLo4YcAL_t"
      },
      "source": [
        "## Compiling the model\n",
        "\n",
        "After the model is created, you compile it using the Adam optimizer, one of the most popular optimization algorithms. You can read more about this optimizer here. Additionally, you specify the loss type which is categorical cross entropy which is used for multi-class classification, you can also use binary cross-entropy as the loss function. Lastly, you specify the metrics as accuracy which you want to analyze while the model is training."
      ]
    },
    {
      "cell_type": "code",
      "execution_count": null,
      "metadata": {
        "id": "VaNfkjiFAL_t"
      },
      "outputs": [],
      "source": [
        "fashion_model.compile(loss=tensorflow.keras.losses.categorical_crossentropy, optimizer=tensorflow.keras.optimizers.Adam(),metrics=['accuracy'])"
      ]
    },
    {
      "cell_type": "markdown",
      "metadata": {
        "id": "a-HC1vNGAL_t"
      },
      "source": [
        "Let's visualize the layers that you created in the above step by using the summary function. This will show some parameters (weights and biases) in each layer and also the total parameters in your model."
      ]
    },
    {
      "cell_type": "code",
      "execution_count": null,
      "metadata": {
        "id": "5CcEqARAAL_t",
        "outputId": "b0f03d8e-1859-4195-b80e-1683d2061527"
      },
      "outputs": [
        {
          "name": "stdout",
          "output_type": "stream",
          "text": [
            "Model: \"sequential_1\"\n",
            "_________________________________________________________________\n",
            "Layer (type)                 Output Shape              Param #   \n",
            "=================================================================\n",
            "conv2d (Conv2D)              (None, 28, 28, 32)        320       \n",
            "_________________________________________________________________\n",
            "leaky_re_lu (LeakyReLU)      (None, 28, 28, 32)        0         \n",
            "_________________________________________________________________\n",
            "max_pooling2d (MaxPooling2D) (None, 14, 14, 32)        0         \n",
            "_________________________________________________________________\n",
            "conv2d_1 (Conv2D)            (None, 14, 14, 64)        18496     \n",
            "_________________________________________________________________\n",
            "leaky_re_lu_1 (LeakyReLU)    (None, 14, 14, 64)        0         \n",
            "_________________________________________________________________\n",
            "max_pooling2d_1 (MaxPooling2 (None, 7, 7, 64)          0         \n",
            "_________________________________________________________________\n",
            "conv2d_2 (Conv2D)            (None, 7, 7, 128)         73856     \n",
            "_________________________________________________________________\n",
            "leaky_re_lu_2 (LeakyReLU)    (None, 7, 7, 128)         0         \n",
            "_________________________________________________________________\n",
            "max_pooling2d_2 (MaxPooling2 (None, 4, 4, 128)         0         \n",
            "_________________________________________________________________\n",
            "flatten (Flatten)            (None, 2048)              0         \n",
            "_________________________________________________________________\n",
            "dense (Dense)                (None, 128)               262272    \n",
            "_________________________________________________________________\n",
            "leaky_re_lu_3 (LeakyReLU)    (None, 128)               0         \n",
            "_________________________________________________________________\n",
            "dense_1 (Dense)              (None, 10)                1290      \n",
            "=================================================================\n",
            "Total params: 356,234\n",
            "Trainable params: 356,234\n",
            "Non-trainable params: 0\n",
            "_________________________________________________________________\n"
          ]
        }
      ],
      "source": [
        "fashion_model.summary()"
      ]
    },
    {
      "cell_type": "markdown",
      "metadata": {
        "id": "1k4gzAOAAL_t"
      },
      "source": [
        "## Visualizing the model\n",
        "\n",
        "Now, let's visualize how our model is processing the image in each layer.\n",
        "\n",
        "#### Output dimensions and hyperparameters of Convolution layer\n",
        "The dimension of the output image of a Convolution layer is calculated through the following formula:\n",
        "\n",
        "$$\\begin{align}({\\lfloor{\\frac{n+2p-f}{s}+1}\\rfloor} \\,\\,\\,\\,\\text{,}\\,\\,\\,\\, {\\lfloor{\\frac{n+2p-f}{s}+1}\\rfloor})\\end{align}$$\n",
        "\n",
        "where the input image is of shape ${(n,n)}$, filter/kernel is of shape ${(f,f)}$, padding is ${(p,p)}$ and stride is ${(s,s)}$.\n",
        "\n",
        "#### Output dimensions and hyperparameters of Activation layer\n",
        "The dimension of the output image of a Activation layer (LeakyReLU in this case) is same as the dimension of the input image.\n",
        "\n",
        "#### Output dimensions and hyperparameters of MaxPooling layer\n",
        "The dimension of the output image of a MaxPooling layer is calculated through the following formula:\n",
        "\n",
        "The resulting output, when using the \"valid\" padding option (i.e. no padding), has a spatial shape (number of rows or columns) of:\n",
        "\n",
        "$$\\begin{align}({\\lfloor{\\frac{n-f}{s}+1}\\rfloor} \\,\\,\\,\\,\\text{,}\\,\\,\\,\\, {\\lfloor{\\frac{n-f}{s}+1}\\rfloor})\\end{align}$$\n",
        "\n",
        "where the input image is of shape ${(n,n)}$, filter/kernel is of shape ${(f,f)}$, and stride is ${(s,s)}$.\n",
        "\n",
        "The resulting output shape when using the \"same\" padding option is:\n",
        "\n",
        "$$\\begin{align}({\\lfloor{\\frac{n-1}{s}+1}\\rfloor} \\,\\,\\,\\,\\text{,}\\,\\,\\,\\, {\\lfloor{\\frac{n-1}{s}+1}\\rfloor})\\end{align}$$\n",
        "\n",
        "where the input image is of shape ${(n,n)}$, and stride is ${(s,s)}$.\n",
        "\n",
        "#### Output dimensions and hyperparameters of Flatten layer\n",
        "The dimension of the output image of a Flatten layer is calculated through the following formula:\n",
        "\n",
        "$$\\begin{align}\\text{output_shape} = n \\times m \\times d\\end{align}$$\n",
        "\n",
        "where the input image is of shape ${(n,m,d)}$\n",
        "\n",
        "#### Output dimensions and hyperparameters of Dense layer\n",
        "The dimension of the output image of a Dense or Fully-connected layer is specified by is equal to the units specified in the Dense layer (128 and 10 for the two Dense layers in the above model).\n",
        "\n",
        "You can validate the aforementioned formulas by manually calculating the output shapes and matching them to the results of **fashion_model.summary()**.\n",
        "\n",
        "![CNN-3.png](attachment:CNN-3.png)"
      ]
    },
    {
      "cell_type": "markdown",
      "metadata": {
        "id": "FzS11-hKAL_t"
      },
      "source": [
        "## Training the model\n",
        "\n",
        "It's finally time to train the model with fit() function! The model trains for 20 epochs. The fit() function will return a history object; By storying the result of this function in fashion_train, you can use it later to plot the accuracy and loss function plots between training and validation which will help you to analyze your model's performance visually."
      ]
    },
    {
      "cell_type": "code",
      "execution_count": null,
      "metadata": {
        "id": "vnqtBZJSAL_u",
        "outputId": "a03e3bb1-6e84-4e73-a0ed-0d765d9c6c5c"
      },
      "outputs": [
        {
          "name": "stdout",
          "output_type": "stream",
          "text": [
            "Train on 48000 samples, validate on 12000 samples\n",
            "Epoch 1/20\n",
            "48000/48000 [==============================] - 45s 939us/sample - loss: 0.4583 - accuracy: 0.8345 - val_loss: 0.3348 - val_accuracy: 0.8806\n",
            "Epoch 2/20\n",
            "48000/48000 [==============================] - 42s 867us/sample - loss: 0.2884 - accuracy: 0.8942 - val_loss: 0.2765 - val_accuracy: 0.8987\n",
            "Epoch 3/20\n",
            "48000/48000 [==============================] - 41s 846us/sample - loss: 0.2415 - accuracy: 0.9113 - val_loss: 0.2639 - val_accuracy: 0.9046\n",
            "Epoch 4/20\n",
            "48000/48000 [==============================] - 41s 852us/sample - loss: 0.2109 - accuracy: 0.9221 - val_loss: 0.2395 - val_accuracy: 0.9098\n",
            "Epoch 5/20\n",
            "48000/48000 [==============================] - 41s 850us/sample - loss: 0.1870 - accuracy: 0.9307 - val_loss: 0.2488 - val_accuracy: 0.9082\n",
            "Epoch 6/20\n",
            "48000/48000 [==============================] - 41s 862us/sample - loss: 0.1627 - accuracy: 0.9392 - val_loss: 0.2651 - val_accuracy: 0.9031\n",
            "Epoch 7/20\n",
            "48000/48000 [==============================] - 41s 856us/sample - loss: 0.1425 - accuracy: 0.9468 - val_loss: 0.2516 - val_accuracy: 0.9155\n",
            "Epoch 8/20\n",
            "48000/48000 [==============================] - 40s 842us/sample - loss: 0.1224 - accuracy: 0.9539 - val_loss: 0.2464 - val_accuracy: 0.9186\n",
            "Epoch 9/20\n",
            "48000/48000 [==============================] - 40s 842us/sample - loss: 0.1033 - accuracy: 0.9614 - val_loss: 0.2690 - val_accuracy: 0.9176\n",
            "Epoch 10/20\n",
            "48000/48000 [==============================] - 41s 857us/sample - loss: 0.0893 - accuracy: 0.9660 - val_loss: 0.2656 - val_accuracy: 0.9202\n",
            "Epoch 11/20\n",
            "48000/48000 [==============================] - 41s 846us/sample - loss: 0.0766 - accuracy: 0.9719 - val_loss: 0.3148 - val_accuracy: 0.9158\n",
            "Epoch 12/20\n",
            "48000/48000 [==============================] - 41s 845us/sample - loss: 0.0663 - accuracy: 0.9748 - val_loss: 0.2896 - val_accuracy: 0.9211\n",
            "Epoch 13/20\n",
            "48000/48000 [==============================] - 41s 848us/sample - loss: 0.0604 - accuracy: 0.9770 - val_loss: 0.3452 - val_accuracy: 0.9174\n",
            "Epoch 14/20\n",
            "48000/48000 [==============================] - 40s 841us/sample - loss: 0.0489 - accuracy: 0.9813 - val_loss: 0.3652 - val_accuracy: 0.9162\n",
            "Epoch 15/20\n",
            "48000/48000 [==============================] - 42s 876us/sample - loss: 0.0460 - accuracy: 0.9829 - val_loss: 0.3848 - val_accuracy: 0.9183\n",
            "Epoch 16/20\n",
            "48000/48000 [==============================] - 41s 861us/sample - loss: 0.0421 - accuracy: 0.9849 - val_loss: 0.4104 - val_accuracy: 0.9195\n",
            "Epoch 17/20\n",
            "48000/48000 [==============================] - 41s 846us/sample - loss: 0.0368 - accuracy: 0.9863 - val_loss: 0.4509 - val_accuracy: 0.9085\n",
            "Epoch 18/20\n",
            "48000/48000 [==============================] - 40s 838us/sample - loss: 0.0380 - accuracy: 0.9859 - val_loss: 0.4481 - val_accuracy: 0.9175\n",
            "Epoch 19/20\n",
            "48000/48000 [==============================] - 41s 851us/sample - loss: 0.0295 - accuracy: 0.9890 - val_loss: 0.4951 - val_accuracy: 0.9183\n",
            "Epoch 20/20\n",
            "48000/48000 [==============================] - 42s 879us/sample - loss: 0.0297 - accuracy: 0.9890 - val_loss: 0.4362 - val_accuracy: 0.9221\n"
          ]
        }
      ],
      "source": [
        "fashion_train = fashion_model.fit(train_X, train_label, batch_size=batch_size, epochs=epochs, verbose=1, validation_data=(valid_X, valid_label))"
      ]
    },
    {
      "cell_type": "markdown",
      "metadata": {
        "id": "4Sj49uvHAL_u"
      },
      "source": [
        "Finally! You trained the model on fashion-MNIST for 20 epochs, and by observing the training accuracy and loss, you can say that the model did a good job since after 20 epochs the training accuracy is almost 99% and the training loss is quite low.\n",
        "\n",
        "However, it looks like the model is overfitting, as the validation loss is 0.4362 and the validation accuracy is 92%. Overfitting gives an intuition that the network has memorized the training data very well but is not guaranteed to work on unseen data, and that is why there is a difference in the training and validation accuracy.\n",
        "\n",
        "You probably need to handle this. In next sections, you'll learn how you can make your model perform much better by adding a Dropout layer into the network and keeping all the other layers unchanged.\n",
        "\n",
        "But first, let's evaluate the performance of your model on the test set before you come on to a conclusion.\n",
        "\n",
        "## Model evaluation on test set"
      ]
    },
    {
      "cell_type": "code",
      "execution_count": null,
      "metadata": {
        "id": "gHN7KMpAAL_u",
        "outputId": "cdf2e7cb-785b-4dfb-bd16-cc5b2ee612c1"
      },
      "outputs": [
        {
          "name": "stdout",
          "output_type": "stream",
          "text": [
            "Test loss: 0.48358432519696654\n",
            "Test accuracy: 0.9148\n"
          ]
        }
      ],
      "source": [
        "test_eval = fashion_model.evaluate(test_X, test_Y_one_hot, verbose=0)\n",
        "print('Test loss:', test_eval[0])\n",
        "print('Test accuracy:', test_eval[1])"
      ]
    },
    {
      "cell_type": "markdown",
      "metadata": {
        "id": "VE6_dpd4AL_u"
      },
      "source": [
        "The test accuracy looks impressive. However, you saw that the model looked like it was overfitting. Are these results really all that good?\n",
        "\n",
        "Let's put your model evaluation into perspective and plot the accuracy and loss plots between training and validation data:"
      ]
    },
    {
      "cell_type": "code",
      "execution_count": null,
      "metadata": {
        "id": "r8qc2PnyAL_u",
        "outputId": "f8674281-eaca-4e49-8804-2925269912f2"
      },
      "outputs": [
        {
          "data": {
            "image/png": "[encoded data removed]",
            "text/plain": [
              "<Figure size 432x288 with 1 Axes>"
            ]
          },
          "metadata": {
            "needs_background": "light"
          },
          "output_type": "display_data"
        },
        {
          "data": {
            "image/png": "[encoded data removed]",
            "text/plain": [
              "<Figure size 432x288 with 1 Axes>"
            ]
          },
          "metadata": {
            "needs_background": "light"
          },
          "output_type": "display_data"
        }
      ],
      "source": [
        "accuracy = fashion_train.history['accuracy']\n",
        "val_accuracy = fashion_train.history['val_accuracy']\n",
        "loss = fashion_train.history['loss']\n",
        "val_loss = fashion_train.history['val_loss']\n",
        "epochs = range(len(accuracy))\n",
        "plt.plot(epochs, accuracy, 'bo', label='Training accuracy')\n",
        "plt.plot(epochs, val_accuracy, 'b', label='Validation accuracy')\n",
        "plt.title('Training and validation accuracy')\n",
        "plt.legend()\n",
        "plt.figure()\n",
        "plt.plot(epochs, loss, 'bo', label='Training loss')\n",
        "plt.plot(epochs, val_loss, 'b', label='Validation loss')\n",
        "plt.title('Training and validation loss')\n",
        "plt.legend()\n",
        "plt.show()"
      ]
    },
    {
      "cell_type": "markdown",
      "metadata": {
        "id": "7M5olwf8AL_u"
      },
      "source": [
        "From the above two plots, you can see that the validation accuracy almost became stagnant after 4-5 epochs and rarely increased at certain epochs. In the beginning, the validation accuracy was linearly increasing with loss, but then it did not increase much.\n",
        "\n",
        "The validation loss shows that this is the sign of overfitting, similar to validation accuracy it linearly decreased but after 4-5 epochs, it started to increase. This means that the model tried to memorize the data and succeeded.\n",
        "\n",
        "With this in mind, it's time to introduce some dropout into our model and see if it helps in reducing overfitting.\n",
        "\n",
        "## Handling overfitting through droput\n",
        "\n",
        "You can add a dropout layer to overcome the problem of overfitting to some extent. Dropout randomly turns off a fraction of neurons during the training process, reducing the dependency on the training set by some amount. How many fractions of neurons you want to turn off is decided by a hyperparameter, which can be tuned accordingly. This way, turning off some neurons will not allow the network to memorize the training data since not all the neurons will be active at the same time and the inactive neurons will not be able to learn anything.\n",
        "\n",
        "So let's create, compile and train the network again but this time with dropout. And run it for 20 epochs with a batch size of 64."
      ]
    },
    {
      "cell_type": "code",
      "execution_count": null,
      "metadata": {
        "id": "yXHErE13AL_v",
        "outputId": "076db9f2-b573-4c37-ed47-1826c3ff5920"
      },
      "outputs": [
        {
          "name": "stdout",
          "output_type": "stream",
          "text": [
            "Model: \"sequential_4\"\n",
            "_________________________________________________________________\n",
            "Layer (type)                 Output Shape              Param #   \n",
            "=================================================================\n",
            "conv2d_9 (Conv2D)            (None, 28, 28, 32)        320       \n",
            "_________________________________________________________________\n",
            "leaky_re_lu_12 (LeakyReLU)   (None, 28, 28, 32)        0         \n",
            "_________________________________________________________________\n",
            "max_pooling2d_9 (MaxPooling2 (None, 14, 14, 32)        0         \n",
            "_________________________________________________________________\n",
            "dropout_8 (Dropout)          (None, 14, 14, 32)        0         \n",
            "_________________________________________________________________\n",
            "conv2d_10 (Conv2D)           (None, 14, 14, 64)        18496     \n",
            "_________________________________________________________________\n",
            "leaky_re_lu_13 (LeakyReLU)   (None, 14, 14, 64)        0         \n",
            "_________________________________________________________________\n",
            "max_pooling2d_10 (MaxPooling (None, 7, 7, 64)          0         \n",
            "_________________________________________________________________\n",
            "dropout_9 (Dropout)          (None, 7, 7, 64)          0         \n",
            "_________________________________________________________________\n",
            "conv2d_11 (Conv2D)           (None, 7, 7, 128)         73856     \n",
            "_________________________________________________________________\n",
            "leaky_re_lu_14 (LeakyReLU)   (None, 7, 7, 128)         0         \n",
            "_________________________________________________________________\n",
            "max_pooling2d_11 (MaxPooling (None, 4, 4, 128)         0         \n",
            "_________________________________________________________________\n",
            "dropout_10 (Dropout)         (None, 4, 4, 128)         0         \n",
            "_________________________________________________________________\n",
            "flatten_3 (Flatten)          (None, 2048)              0         \n",
            "_________________________________________________________________\n",
            "dense_6 (Dense)              (None, 128)               262272    \n",
            "_________________________________________________________________\n",
            "leaky_re_lu_15 (LeakyReLU)   (None, 128)               0         \n",
            "_________________________________________________________________\n",
            "dropout_11 (Dropout)         (None, 128)               0         \n",
            "_________________________________________________________________\n",
            "dense_7 (Dense)              (None, 10)                1290      \n",
            "=================================================================\n",
            "Total params: 356,234\n",
            "Trainable params: 356,234\n",
            "Non-trainable params: 0\n",
            "_________________________________________________________________\n"
          ]
        }
      ],
      "source": [
        "batch_size = 64\n",
        "epochs = 20\n",
        "num_classes = 10\n",
        "\n",
        "fashion_model = Sequential()\n",
        "fashion_model.add(Conv2D(32, kernel_size=(3, 3),activation='linear',padding='same',input_shape=(28,28,1)))\n",
        "fashion_model.add(LeakyReLU(alpha=0.1))\n",
        "fashion_model.add(MaxPooling2D((2, 2),padding='same'))\n",
        "fashion_model.add(Dropout(0.25))\n",
        "fashion_model.add(Conv2D(64, (3, 3), activation='linear',padding='same'))\n",
        "fashion_model.add(LeakyReLU(alpha=0.1))\n",
        "fashion_model.add(MaxPooling2D(pool_size=(2, 2),padding='same'))\n",
        "fashion_model.add(Dropout(0.25))\n",
        "fashion_model.add(Conv2D(128, (3, 3), activation='linear',padding='same'))\n",
        "fashion_model.add(LeakyReLU(alpha=0.1))\n",
        "fashion_model.add(MaxPooling2D(pool_size=(2, 2),padding='same'))\n",
        "fashion_model.add(Dropout(0.4))\n",
        "fashion_model.add(Flatten())\n",
        "fashion_model.add(Dense(128, activation='linear'))\n",
        "fashion_model.add(LeakyReLU(alpha=0.1))\n",
        "fashion_model.add(Dropout(0.3))\n",
        "fashion_model.add(Dense(num_classes, activation='softmax'))\n",
        "\n",
        "fashion_model.summary()"
      ]
    },
    {
      "cell_type": "code",
      "execution_count": null,
      "metadata": {
        "id": "qO2OfQd1AL_v",
        "outputId": "9b42272c-4c4b-4944-97e5-484788d71cce"
      },
      "outputs": [
        {
          "name": "stdout",
          "output_type": "stream",
          "text": [
            "Train on 48000 samples, validate on 12000 samples\n",
            "Epoch 1/20\n",
            "48000/48000 [==============================] - 46s 949us/sample - loss: 0.6023 - accuracy: 0.7746 - val_loss: 0.3736 - val_accuracy: 0.8609\n",
            "Epoch 2/20\n",
            "48000/48000 [==============================] - 47s 971us/sample - loss: 0.3799 - accuracy: 0.8601 - val_loss: 0.3197 - val_accuracy: 0.8818\n",
            "Epoch 3/20\n",
            "48000/48000 [==============================] - 44s 922us/sample - loss: 0.3330 - accuracy: 0.8767 - val_loss: 0.2738 - val_accuracy: 0.8978\n",
            "Epoch 4/20\n",
            "48000/48000 [==============================] - 44s 916us/sample - loss: 0.3023 - accuracy: 0.8893 - val_loss: 0.2688 - val_accuracy: 0.9017\n",
            "Epoch 5/20\n",
            "48000/48000 [==============================] - 44s 919us/sample - loss: 0.2839 - accuracy: 0.8946 - val_loss: 0.2586 - val_accuracy: 0.9053\n",
            "Epoch 6/20\n",
            "48000/48000 [==============================] - 44s 919us/sample - loss: 0.2703 - accuracy: 0.8990 - val_loss: 0.2399 - val_accuracy: 0.9122\n",
            "Epoch 7/20\n",
            "48000/48000 [==============================] - 45s 940us/sample - loss: 0.2594 - accuracy: 0.9039 - val_loss: 0.2617 - val_accuracy: 0.9045\n",
            "Epoch 8/20\n",
            "48000/48000 [==============================] - 45s 932us/sample - loss: 0.2510 - accuracy: 0.9072 - val_loss: 0.2295 - val_accuracy: 0.9150\n",
            "Epoch 9/20\n",
            "48000/48000 [==============================] - 46s 956us/sample - loss: 0.2413 - accuracy: 0.9095 - val_loss: 0.2308 - val_accuracy: 0.9162\n",
            "Epoch 10/20\n",
            "48000/48000 [==============================] - 46s 949us/sample - loss: 0.2366 - accuracy: 0.9124 - val_loss: 0.2258 - val_accuracy: 0.9162\n",
            "Epoch 11/20\n",
            "48000/48000 [==============================] - 46s 950us/sample - loss: 0.2289 - accuracy: 0.9157 - val_loss: 0.2257 - val_accuracy: 0.9162\n",
            "Epoch 12/20\n",
            "48000/48000 [==============================] - 46s 953us/sample - loss: 0.2225 - accuracy: 0.9161 - val_loss: 0.2231 - val_accuracy: 0.9202\n",
            "Epoch 13/20\n",
            "48000/48000 [==============================] - 47s 976us/sample - loss: 0.2195 - accuracy: 0.9175 - val_loss: 0.2105 - val_accuracy: 0.9224\n",
            "Epoch 14/20\n",
            "48000/48000 [==============================] - 46s 954us/sample - loss: 0.2176 - accuracy: 0.9191 - val_loss: 0.2132 - val_accuracy: 0.9221\n",
            "Epoch 15/20\n",
            "48000/48000 [==============================] - 46s 963us/sample - loss: 0.2104 - accuracy: 0.9212 - val_loss: 0.2143 - val_accuracy: 0.9203\n",
            "Epoch 16/20\n",
            "48000/48000 [==============================] - 46s 957us/sample - loss: 0.2060 - accuracy: 0.9231 - val_loss: 0.2062 - val_accuracy: 0.9257\n",
            "Epoch 17/20\n",
            "48000/48000 [==============================] - 45s 948us/sample - loss: 0.2026 - accuracy: 0.9239 - val_loss: 0.2162 - val_accuracy: 0.9212\n",
            "Epoch 18/20\n",
            "48000/48000 [==============================] - 45s 944us/sample - loss: 0.2024 - accuracy: 0.9230 - val_loss: 0.2135 - val_accuracy: 0.9250\n",
            "Epoch 19/20\n",
            "48000/48000 [==============================] - 45s 946us/sample - loss: 0.1995 - accuracy: 0.9241 - val_loss: 0.2195 - val_accuracy: 0.9205\n",
            "Epoch 20/20\n",
            "48000/48000 [==============================] - 46s 963us/sample - loss: 0.1973 - accuracy: 0.9260 - val_loss: 0.2214 - val_accuracy: 0.9209\n"
          ]
        }
      ],
      "source": [
        "fashion_model.compile(loss=tensorflow.keras.losses.categorical_crossentropy, optimizer=tensorflow.keras.optimizers.Adam(),metrics=['accuracy'])\n",
        "fashion_train_dropout = fashion_model.fit(train_X, train_label, batch_size=batch_size, epochs=epochs, verbose=1, validation_data=(valid_X, valid_label))"
      ]
    },
    {
      "cell_type": "markdown",
      "metadata": {
        "id": "PnLuZ11RAL_z"
      },
      "source": [
        "Let's save the model so that you can directly load it and not have to train it again for 20 epochs. This way, you can load the model later on if you need it and modify the architecture; Alternatively, you can start the training process on this saved model. It is always a good idea to save the model -and even the model's weights!- because it saves you time. Note that you can also save the model after every epoch so that, if some issue occurs that stops the training at an epoch, you will not have to start the training from the beginning."
      ]
    },
    {
      "cell_type": "code",
      "execution_count": null,
      "metadata": {
        "id": "e6cCLs21AL_z",
        "outputId": "6cfcaab2-58a9-44af-b12b-ead822b08a9e"
      },
      "outputs": [
        {
          "name": "stdout",
          "output_type": "stream",
          "text": [
            "INFO:tensorflow:Assets written to: fashion_model_dropout.h5py\\assets\n"
          ]
        }
      ],
      "source": [
        "fashion_model.save(\"fashion_model_dropout.h5py\");"
      ]
    },
    {
      "cell_type": "markdown",
      "metadata": {
        "id": "zM8OoJ3wAL_z"
      },
      "source": [
        "## Model evaluation on test set\n",
        "\n",
        "Now, let's also evaluate your new model and see how it performs!"
      ]
    },
    {
      "cell_type": "code",
      "execution_count": null,
      "metadata": {
        "id": "QQJAZrDKAL_z",
        "outputId": "26843d93-d3b4-4f19-e0d9-2465612d997a"
      },
      "outputs": [
        {
          "name": "stdout",
          "output_type": "stream",
          "text": [
            "Test loss: 0.23411626928150653\n",
            "Test accuracy: 0.9143\n"
          ]
        }
      ],
      "source": [
        "test_eval = fashion_model.evaluate(test_X, test_Y_one_hot, verbose=0)\n",
        "print('Test loss:', test_eval[0])\n",
        "print('Test accuracy:', test_eval[1])"
      ]
    },
    {
      "cell_type": "markdown",
      "metadata": {
        "id": "L8CRB_4YAL_z"
      },
      "source": [
        "Looks like adding Dropout in our model worked, even though the test accuracy did not improve significantly but the test loss decreased compared to the previous results.\n",
        "\n",
        "Now, let's plot the accuracy and loss plots between training and validation data for the one last time."
      ]
    },
    {
      "cell_type": "code",
      "execution_count": null,
      "metadata": {
        "id": "kJnUUATwAL_0",
        "outputId": "a54ec259-b7cf-4b23-c50a-e76b9e5bd743"
      },
      "outputs": [
        {
          "data": {
            "image/png": "[encoded data removed]",
            "text/plain": [
              "<Figure size 432x288 with 1 Axes>"
            ]
          },
          "metadata": {
            "needs_background": "light"
          },
          "output_type": "display_data"
        },
        {
          "data": {
            "image/png": "[encoded data removed]",
            "text/plain": [
              "<Figure size 432x288 with 1 Axes>"
            ]
          },
          "metadata": {
            "needs_background": "light"
          },
          "output_type": "display_data"
        }
      ],
      "source": [
        "accuracy = fashion_train_dropout.history['accuracy']\n",
        "val_accuracy = fashion_train_dropout.history['val_accuracy']\n",
        "loss = fashion_train_dropout.history['loss']\n",
        "val_loss = fashion_train_dropout.history['val_loss']\n",
        "epochs = range(len(accuracy))\n",
        "plt.plot(epochs, accuracy, 'bo', label='Training accuracy')\n",
        "plt.plot(epochs, val_accuracy, 'b', label='Validation accuracy')\n",
        "plt.title('Training and validation accuracy')\n",
        "plt.legend()\n",
        "plt.figure()\n",
        "plt.plot(epochs, loss, 'bo', label='Training loss')\n",
        "plt.plot(epochs, val_loss, 'b', label='Validation loss')\n",
        "plt.title('Training and validation loss')\n",
        "plt.legend()\n",
        "plt.show()"
      ]
    },
    {
      "cell_type": "markdown",
      "metadata": {
        "id": "LJ66P4vYAL_0"
      },
      "source": [
        "Finally, you can see that the validation loss and validation accuracy both are in sync with the training loss and training accuracy. Even though the validation loss and accuracy line are not linear, but it shows that your model is not overfitting: the validation loss is decreasing and not increasing, and there is not much gap between training and validation accuracy.\n",
        "\n",
        "Therefore, you can say that your model's generalization capability became much better since the loss on both test set and validation set was only slightly more compared to the training loss.\n",
        "\n",
        "## Prediction by the trained model"
      ]
    },
    {
      "cell_type": "code",
      "execution_count": null,
      "metadata": {
        "id": "ycfRpLyhAL_0",
        "outputId": "e355d2f9-9e58-4c96-9d0c-fc7f5bf329f5"
      },
      "outputs": [
        {
          "data": {
            "text/plain": [
              "(10000, 10)"
            ]
          },
          "execution_count": 49,
          "metadata": {},
          "output_type": "execute_result"
        }
      ],
      "source": [
        "predicted_classes = fashion_model.predict(test_X)\n",
        "predicted_classes.shape"
      ]
    },
    {
      "cell_type": "markdown",
      "metadata": {
        "id": "oJdVvibjAL_0"
      },
      "source": [
        "Since the predictions you get are floating point values, it will not be feasible to compare the predicted labels with true test labels. So, you will round off the output which will convert the float values into an integer. Further, you will use np.argmax() to select the index number which has a higher value in a row.\n",
        "\n",
        "For example, let's assume a prediction for one test image to be 0 1 0 0 0 0 0 0 0 0, the output for this should be a class label 1."
      ]
    },
    {
      "cell_type": "code",
      "execution_count": null,
      "metadata": {
        "id": "peaBZ_DNAL_0",
        "outputId": "4d0b5035-5c8e-438d-d698-21c687c5e2a2"
      },
      "outputs": [
        {
          "data": {
            "text/plain": [
              "((10000,), (10000,))"
            ]
          },
          "execution_count": 51,
          "metadata": {},
          "output_type": "execute_result"
        }
      ],
      "source": [
        "predicted_classes = np.argmax(np.round(predicted_classes),axis=1)\n",
        "predicted_classes.shape, test_Y.shape"
      ]
    },
    {
      "cell_type": "code",
      "execution_count": null,
      "metadata": {
        "id": "ftZa2TUxAL_0",
        "outputId": "61cfcfd9-158c-4210-ae26-6fcbd5d775c9"
      },
      "outputs": [
        {
          "name": "stdout",
          "output_type": "stream",
          "text": [
            "Found 9100 correct labels\n"
          ]
        },
        {
          "data": {
            "image/png": "[encoded data removed]",
            "text/plain": [
              "<Figure size 432x288 with 9 Axes>"
            ]
          },
          "metadata": {
            "needs_background": "light"
          },
          "output_type": "display_data"
        }
      ],
      "source": [
        "correct = np.where(predicted_classes==test_Y)[0]\n",
        "print(\"Found %d correct labels\" % len(correct))\n",
        "for i, correct in enumerate(correct[:9]):\n",
        "    plt.subplot(3,3,i+1)\n",
        "    plt.imshow(test_X[correct].reshape(28,28), cmap='gray', interpolation='none')\n",
        "    plt.title(\"Predicted {}, Class {}\".format(predicted_classes[correct], test_Y[correct]))\n",
        "    plt.tight_layout()"
      ]
    },
    {
      "cell_type": "code",
      "execution_count": null,
      "metadata": {
        "id": "Aef9Jw4XAL_1",
        "outputId": "4e9a06fc-e605-4bcf-b7bf-28fb1624eab5"
      },
      "outputs": [
        {
          "name": "stdout",
          "output_type": "stream",
          "text": [
            "Found 900 incorrect labels\n"
          ]
        },
        {
          "data": {
            "image/png": "[encoded data removed]",
            "text/plain": [
              "<Figure size 432x288 with 9 Axes>"
            ]
          },
          "metadata": {
            "needs_background": "light"
          },
          "output_type": "display_data"
        }
      ],
      "source": [
        "incorrect = np.where(predicted_classes!=test_Y)[0]\n",
        "print(\"Found %d incorrect labels\" % len(incorrect))\n",
        "for i, incorrect in enumerate(incorrect[:9]):\n",
        "    plt.subplot(3,3,i+1)\n",
        "    plt.imshow(test_X[incorrect].reshape(28,28), cmap='gray', interpolation='none')\n",
        "    plt.title(\"Predicted {}, Class {}\".format(predicted_classes[incorrect], test_Y[incorrect]))\n",
        "    plt.tight_layout()"
      ]
    },
    {
      "cell_type": "markdown",
      "metadata": {
        "id": "xBSUkh0DAL_1"
      },
      "source": [
        "By looking at a few images, you cannot be sure as to why your model is not able to classify the above images correctly, but it seems like a variety of the similar patterns present on multiple classes affect the performance of the classifier although CNN is a robust architecture.\n",
        "\n",
        "## Classification Report\n",
        "\n",
        "Classification report will help us in identifying the misclassified classes in more detail. You will be able to observe for which class the model performed bad out of the given ten classes."
      ]
    },
    {
      "cell_type": "code",
      "execution_count": null,
      "metadata": {
        "id": "2QsWCnnmAL_1",
        "outputId": "cae8573c-05a6-4044-fae3-a408b36e1db9"
      },
      "outputs": [
        {
          "name": "stdout",
          "output_type": "stream",
          "text": [
            "              precision    recall  f1-score   support\n",
            "\n",
            "     Class 0       0.77      0.83      0.80      1000\n",
            "     Class 1       0.99      0.99      0.99      1000\n",
            "     Class 2       0.92      0.80      0.86      1000\n",
            "     Class 3       0.90      0.94      0.92      1000\n",
            "     Class 4       0.88      0.86      0.87      1000\n",
            "     Class 5       0.99      0.99      0.99      1000\n",
            "     Class 6       0.76      0.78      0.77      1000\n",
            "     Class 7       0.95      0.99      0.97      1000\n",
            "     Class 8       0.99      0.98      0.98      1000\n",
            "     Class 9       0.99      0.95      0.97      1000\n",
            "\n",
            "    accuracy                           0.91     10000\n",
            "   macro avg       0.91      0.91      0.91     10000\n",
            "weighted avg       0.91      0.91      0.91     10000\n",
            "\n"
          ]
        }
      ],
      "source": [
        "from sklearn.metrics import classification_report\n",
        "target_names = [\"Class {}\".format(i) for i in range(num_classes)]\n",
        "print(classification_report(test_Y, predicted_classes, target_names=target_names))"
      ]
    },
    {
      "cell_type": "markdown",
      "metadata": {
        "id": "2gECEVfvAL_1"
      },
      "source": [
        "You can see that the classifier is underperforming for class 6 regarding both precision and recall. For class 0, the classifier is lacking precision and recall is not above 90%. Also, for class 2, the classifier is slightly lacking recall."
      ]
    },
    {
      "cell_type": "code",
      "execution_count": null,
      "metadata": {
        "id": "NgKMxj4DAL_1"
      },
      "outputs": [],
      "source": []
    }
  ],
  "metadata": {
    "kernelspec": {
      "display_name": "Python 3",
      "language": "python",
      "name": "python3"
    },
    "language_info": {
      "codemirror_mode": {
        "name": "ipython",
        "version": 3
      },
      "file_extension": ".py",
      "mimetype": "text/x-python",
      "name": "python",
      "nbconvert_exporter": "python",
      "pygments_lexer": "ipython3",
      "version": "3.7.7"
    },
    "colab": {
      "provenance": [],
      "include_colab_link": true
    }
  },
  "nbformat": 4,
  "nbformat_minor": 0
}